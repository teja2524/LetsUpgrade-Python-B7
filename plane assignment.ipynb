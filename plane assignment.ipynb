{
 "cells": [
  {
   "cell_type": "code",
   "execution_count": 1,
   "metadata": {},
   "outputs": [
    {
     "name": "stdout",
     "output_type": "stream",
     "text": [
      "bring down to 1000\n"
     ]
    }
   ],
   "source": [
    "#DAY 3 --assignment1\n",
    " \n",
    "altitude=3500\n",
    "if  altitude<1000:\n",
    "    print(\"safe to land\")\n",
    "elif  altitude<5000:\n",
    "    print (\"bring down to 1000\")\n",
    "else: \n",
    "    print(\"turn around\")"
   ]
  }
 ],
 "metadata": {
  "kernelspec": {
   "display_name": "Python 3",
   "language": "python",
   "name": "python3"
  },
  "language_info": {
   "codemirror_mode": {
    "name": "ipython",
    "version": 3
   },
   "file_extension": ".py",
   "mimetype": "text/x-python",
   "name": "python",
   "nbconvert_exporter": "python",
   "pygments_lexer": "ipython3",
   "version": "3.8.3"
  }
 },
 "nbformat": 4,
 "nbformat_minor": 4
}
